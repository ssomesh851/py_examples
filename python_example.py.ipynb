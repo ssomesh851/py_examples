{
 "cells": [
  {
   "cell_type": "code",
   "execution_count": 1,
   "metadata": {},
   "outputs": [
    {
     "name": "stdout",
     "output_type": "stream",
     "text": [
      "the exam date 10 / 11 / 18\n"
     ]
    }
   ],
   "source": [
    "exam_date = (10,11,18)\n",
    "print(\"the exam date %i / %i / %i\"%exam_date)"
   ]
  },
  {
   "cell_type": "code",
   "execution_count": 2,
   "metadata": {},
   "outputs": [
    {
     "name": "stdout",
     "output_type": "stream",
     "text": [
      "enter a number:5\n",
      "615\n"
     ]
    }
   ],
   "source": [
    "a = int(input('enter a number:'))\n",
    "n1 = int(\"%s\" %a)\n",
    "n2 = int(\"%s%s\"%(a,a))\n",
    "n3 = int(\"%s%s%s\"%(a,a,a))\n",
    "print(n1+n2+n3)"
   ]
  },
  {
   "cell_type": "code",
   "execution_count": 6,
   "metadata": {},
   "outputs": [
    {
     "name": "stdout",
     "output_type": "stream",
     "text": [
      "Return the absolute value of the argument.\n"
     ]
    }
   ],
   "source": [
    "print(abs.__doc__)"
   ]
  },
  {
   "cell_type": "code",
   "execution_count": 9,
   "metadata": {},
   "outputs": [
    {
     "name": "stdout",
     "output_type": "stream",
     "text": [
      "input the year:2019\n",
      "input the month:1\n",
      "    January 2019\n",
      "Mo Tu We Th Fr Sa Su\n",
      "    1  2  3  4  5  6\n",
      " 7  8  9 10 11 12 13\n",
      "14 15 16 17 18 19 20\n",
      "21 22 23 24 25 26 27\n",
      "28 29 30 31\n",
      "\n"
     ]
    }
   ],
   "source": [
    "import calendar\n",
    "y = int(input(\"input the year:\"))\n",
    "m = int(input(\"input the month:\"))\n",
    "print(calendar.month(y, m))"
   ]
  },
  {
   "cell_type": "code",
   "execution_count": 14,
   "metadata": {},
   "outputs": [
    {
     "name": "stdout",
     "output_type": "stream",
     "text": [
      "-23 days, 0:00:00\n"
     ]
    }
   ],
   "source": [
    "from datetime import date\n",
    "f_date = date(2019,2,27)\n",
    "l_date = date(2019,3,22)\n",
    "date1 = f_date-l_date\n",
    "print(date1)"
   ]
  },
  {
   "cell_type": "code",
   "execution_count": 15,
   "metadata": {},
   "outputs": [
    {
     "name": "stdout",
     "output_type": "stream",
     "text": [
      "10\n",
      "14\n"
     ]
    }
   ],
   "source": [
    "def difference(n):\n",
    "    if n <= 17:\n",
    "        return 17-n\n",
    "    elif n > 17:\n",
    "        return (n-17)*2\n",
    "print(difference(22))\n",
    "print(difference(24))\n",
    "    "
   ]
  },
  {
   "cell_type": "code",
   "execution_count": 22,
   "metadata": {},
   "outputs": [
    {
     "name": "stdout",
     "output_type": "stream",
     "text": [
      "True\n",
      "True\n",
      "False\n",
      "False\n"
     ]
    }
   ],
   "source": [
    "def near_thousand(n):\n",
    "    return ((abs(1000-n) <= 100) or (abs(2000-n) <= 100))\n",
    "print(near_thousand(1000))\n",
    "print(near_thousand(900))\n",
    "print(near_thousand(800))\n",
    "print(near_thousand(700))"
   ]
  },
  {
   "cell_type": "code",
   "execution_count": 24,
   "metadata": {},
   "outputs": [
    {
     "name": "stdout",
     "output_type": "stream",
     "text": [
      "enter the number:10\n",
      "enter the number:10\n",
      "enter the number:10\n",
      "8000\n"
     ]
    }
   ],
   "source": [
    "value1 = int(input('enter the number:'))\n",
    "value2 = int(input('enter the number:'))\n",
    "value3 = int(input('enter the number:'))\n",
    "if value1 == value2:\n",
    "    val = value1+value2\n",
    "    print(val**3)\n",
    "elif value2 == value3:\n",
    "    val1 = value2+value3\n",
    "    print(val1**3)\n",
    "else:\n",
    "    print(value1+value2+value3)"
   ]
  },
  {
   "cell_type": "code",
   "execution_count": 29,
   "metadata": {},
   "outputs": [
    {
     "name": "stdout",
     "output_type": "stream",
     "text": [
      "isarray\n",
      "isEmpty\n"
     ]
    }
   ],
   "source": [
    "def new_string(str):\n",
    "    if len(str) >= 2 and str[:2] == \"is\":\n",
    "        return str\n",
    "    return \"is\"+str\n",
    "print(new_string(\"array\"))\n",
    "print(new_string(\"isEmpty\"))"
   ]
  },
  {
   "cell_type": "code",
   "execution_count": 32,
   "metadata": {},
   "outputs": [
    {
     "name": "stdout",
     "output_type": "stream",
     "text": [
      "abcabcabc\n",
      "maheshmaheshmaheshmaheshmahesh\n"
     ]
    }
   ],
   "source": [
    "def larger_string(str,n):\n",
    "    result = \"\"\n",
    "    for i in range(n):\n",
    "        result = result+str\n",
    "    return result\n",
    "print(larger_string('abc',3))\n",
    "print(larger_string('mahesh',5))"
   ]
  },
  {
   "cell_type": "code",
   "execution_count": 35,
   "metadata": {},
   "outputs": [
    {
     "data": {
      "text/plain": [
       "3"
      ]
     },
     "execution_count": 35,
     "metadata": {},
     "output_type": "execute_result"
    }
   ],
   "source": [
    "def count_4(num):\n",
    "    count = 0\n",
    "    for n in num:\n",
    "        if n == 4:\n",
    "            count += 1\n",
    "    return count\n",
    "count_4([1,4,1,4,4,5,6])"
   ]
  },
  {
   "cell_type": "code",
   "execution_count": 37,
   "metadata": {},
   "outputs": [
    {
     "data": {
      "text/plain": [
       "'ar'"
      ]
     },
     "execution_count": 37,
     "metadata": {},
     "output_type": "execute_result"
    }
   ],
   "source": [
    "def string_r(str,n):\n",
    "    result = \"\"\n",
    "    for i in range(n):\n",
    "        if len(str)<=2:\n",
    "            result = result+str\n",
    "            return result\n",
    "        else:\n",
    "            print(str[:2])\n",
    "string_r(\"ar\",2)"
   ]
  },
  {
   "cell_type": "code",
   "execution_count": 41,
   "metadata": {},
   "outputs": [
    {
     "name": "stdout",
     "output_type": "stream",
     "text": [
      "enter the letters:l\n",
      "passed latters is not vowel\n"
     ]
    }
   ],
   "source": [
    "letters = input('enter the letters:')\n",
    "vowels = ['a','e','i','o','u']\n",
    "if letters in vowels:\n",
    "    print(\"passed latters is vowel\")\n",
    "else:\n",
    "    print(\"passed latters is not vowel\")"
   ]
  },
  {
   "cell_type": "code",
   "execution_count": 46,
   "metadata": {},
   "outputs": [
    {
     "name": "stdout",
     "output_type": "stream",
     "text": [
      "**********\n",
      "*****\n",
      "**********\n"
     ]
    }
   ],
   "source": [
    "def histogram(items):\n",
    "    for n in items:\n",
    "        output = ''\n",
    "        times = n\n",
    "        while times>0:\n",
    "            output += \"*\"\n",
    "            times = times - 1\n",
    "        print(output)\n",
    "histogram([10,5,10])\n",
    "            \n",
    "    "
   ]
  },
  {
   "cell_type": "code",
   "execution_count": 47,
   "metadata": {},
   "outputs": [
    {
     "name": "stdout",
     "output_type": "stream",
     "text": [
      "101251\n"
     ]
    }
   ],
   "source": [
    "def concate(list):\n",
    "    result = \"\"\n",
    "    for i in list:\n",
    "        result =str(i)+result\n",
    "    return result\n",
    "print(concate([1,5,12,10]))"
   ]
  },
  {
   "cell_type": "code",
   "execution_count": null,
   "metadata": {},
   "outputs": [],
   "source": []
  }
 ],
 "metadata": {
  "kernelspec": {
   "display_name": "Python 3",
   "language": "python",
   "name": "python3"
  },
  "language_info": {
   "codemirror_mode": {
    "name": "ipython",
    "version": 3
   },
   "file_extension": ".py",
   "mimetype": "text/x-python",
   "name": "python",
   "nbconvert_exporter": "python",
   "pygments_lexer": "ipython3",
   "version": "3.6.5"
  }
 },
 "nbformat": 4,
 "nbformat_minor": 2
}
